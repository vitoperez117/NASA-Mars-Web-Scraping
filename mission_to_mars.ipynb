{
 "cells": [
  {
   "cell_type": "code",
   "execution_count": 12,
   "metadata": {},
   "outputs": [],
   "source": [
    "from selenium import webdriver\n",
    "from bs4 import BeautifulSoup as bs\n",
    "from collections import defaultdict\n",
    "import time\n",
    "import requests"
   ]
  },
  {
   "cell_type": "code",
   "execution_count": 10,
   "metadata": {},
   "outputs": [],
   "source": [
    "mars_nasa_url = \"https://mars.nasa.gov/news/?page=0&per_page=40&order=publish_date+desc%2Ccreated_at+desc&search=&category=19%2C165%2C184%2C204&blank_scope=Latest\"\n",
    "mars_jpl_url = \"https://www.jpl.nasa.gov/spaceimages/?search=&category=Mars\"\n",
    "mars_twitter_url= \"https://twitter.com/marswxreport?lang=en\"\n",
    "mars_facts_url = \"https://space-facts.com/mars/\"\n",
    "mars_hemispheres_url = \"https://astrogeology.usgs.gov/search/results?q=hemisphere+enhanced&k1=target&v1=Mars\""
   ]
  },
  {
   "cell_type": "code",
   "execution_count": 3,
   "metadata": {},
   "outputs": [
    {
     "data": {
      "text/plain": [
       "(\"NASA's Mars 2020 Rover Closer to Getting Its Name\",\n",
       " \"155 students from across the U.S. have been chosen as semifinalists in NASA's essay contest to name the Mars 2020 rover, and see it launch from Cape Canaveral this July.\")"
      ]
     },
     "execution_count": 3,
     "metadata": {},
     "output_type": "execute_result"
    }
   ],
   "source": [
    "#Scrape NASA Mars News\n",
    "def scrape_mars_news():\n",
    "    chrome_path = \"/usr/local/bin/chromedriver\"\n",
    "\n",
    "    browser = webdriver.Chrome(chrome_path)\n",
    "    browser.get(mars_nasa_url)\n",
    "\n",
    "    time.sleep(1)\n",
    "\n",
    "    soup = bs(browser.page_source, 'html.parser')\n",
    "    tag = soup.find('div', class_='content_title').text\n",
    "    paragraph = soup.find('div', class_='article_teaser_body').text\n",
    "    browser.close()\n",
    "\n",
    "    return tag, paragraph\n",
    "\n",
    "scrape_mars_news()"
   ]
  },
  {
   "cell_type": "code",
   "execution_count": 13,
   "metadata": {},
   "outputs": [
    {
     "data": {
      "text/plain": [
       "{'Arabia Terra Channel': '/spaceimages/images/wallpaper/PIA23656-640x350.jpg'}"
      ]
     },
     "execution_count": 13,
     "metadata": {},
     "output_type": "execute_result"
    }
   ],
   "source": [
    "#Scrape JPL Featured Mars Image\n",
    "def scrape_jpl_mars_image():\n",
    "    listings = {}\n",
    "    chrome_path = \"/usr/local/bin/chromedriver\"\n",
    "    browser = webdriver.Chrome(chrome_path)\n",
    "\n",
    "    browser.get(mars_jpl_url)\n",
    "\n",
    "    time.sleep(1)\n",
    "\n",
    "    soup = bs(browser.page_source, 'html.parser')\n",
    "    img_title = soup.find('div', class_='item_tease_overlay').text\n",
    "    listings[img_title] = soup.find('img', class_='thumb')['src']\n",
    "    featured_img_jpg = \"https://www.jpl.nasa.gov\" + listings[img_title]\n",
    "\n",
    "    browser.close()\n",
    "    \n",
    "    return listings\n",
    "\n",
    "scrape_jpl_mars_image()"
   ]
  },
  {
   "cell_type": "code",
   "execution_count": 17,
   "metadata": {},
   "outputs": [
    {
     "name": "stdout",
     "output_type": "stream",
     "text": [
      "<img alt=\"\" class=\"avatar size32\"/>\n",
      "<img alt=\"\" class=\"avatar size32\"/>\n",
      "<img alt=\"\" class=\"avatar size32\"/>\n",
      "<img alt=\"\" src=\"https://pbs.twimg.com/profile_banners/786939553/1550640093/1500x500\"/>\n",
      "<img alt=\"Mars Weather\" class=\"ProfileAvatar-image\" src=\"https://pbs.twimg.com/profile_images/2552209293/220px-Mars_atmosphere_400x400.jpg\"/>\n",
      "<img alt=\"Mars Weather\" class=\"ProfileCardMini-avatarImage\" src=\"https://pbs.twimg.com/profile_images/2552209293/220px-Mars_atmosphere_normal.jpg\"/>\n",
      "<img alt=\"\" class=\"avatar js-action-profile-avatar\" src=\"https://pbs.twimg.com/profile_images/2552209293/220px-Mars_atmosphere_bigger.jpg\"/>\n",
      "<img alt=\"\" data-aria-label-part=\"\" src=\"https://pbs.twimg.com/media/EPfnKPuXkAEjk8X.jpg\" style=\"width: 100%; top: -0px;\"/>\n",
      "<img alt=\"\" class=\"avatar js-action-profile-avatar\" src=\"https://pbs.twimg.com/profile_images/2552209293/220px-Mars_atmosphere_bigger.jpg\"/>\n",
      "<img alt=\"\" data-aria-label-part=\"\" src=\"https://pbs.twimg.com/media/EPdBXakWAAANU44.jpg\" style=\"width: 100%; top: -0px;\"/>\n",
      "<img alt=\"\" class=\"avatar js-action-profile-avatar\" src=\"https://pbs.twimg.com/profile_images/2552209293/220px-Mars_atmosphere_bigger.jpg\"/>\n",
      "<img alt=\"\" data-aria-label-part=\"\" src=\"https://pbs.twimg.com/media/EPWJxyMXsAApSjw.jpg\" style=\"width: 100%; top: -0px;\"/>\n",
      "<img alt=\"\" class=\"avatar js-action-profile-avatar\" src=\"https://pbs.twimg.com/profile_images/2552209293/220px-Mars_atmosphere_bigger.jpg\"/>\n",
      "<img alt=\"\" class=\"avatar js-action-profile-avatar\" src=\"https://pbs.twimg.com/profile_images/2552209293/220px-Mars_atmosphere_bigger.jpg\"/>\n",
      "<img alt=\"\" class=\"avatar js-action-profile-avatar\" src=\"https://pbs.twimg.com/profile_images/2552209293/220px-Mars_atmosphere_bigger.jpg\"/>\n",
      "<img alt=\"\" class=\"avatar js-action-profile-avatar\" src=\"https://pbs.twimg.com/profile_images/2552209293/220px-Mars_atmosphere_bigger.jpg\"/>\n",
      "<img alt=\"\" data-aria-label-part=\"\" src=\"https://pbs.twimg.com/media/EO--ngRWAAM-dsz.jpg\" style=\"width: 100%; top: -0px;\"/>\n",
      "<img alt=\"\" class=\"avatar js-action-profile-avatar\" src=\"https://pbs.twimg.com/profile_images/2552209293/220px-Mars_atmosphere_bigger.jpg\"/>\n",
      "<img alt=\"\" class=\"avatar js-action-profile-avatar\" src=\"https://pbs.twimg.com/profile_images/1219729137318887424/mAOndQVs_bigger.jpg\"/>\n",
      "<img alt=\"\" class=\"avatar js-action-profile-avatar\" src=\"https://pbs.twimg.com/profile_images/2552209293/220px-Mars_atmosphere_bigger.jpg\"/>\n",
      "<img alt=\"🇹🇷\" aria-label=\"Emoji: Flag of Turkey\" class=\"Emoji Emoji--forText\" draggable=\"false\" src=\"https://abs.twimg.com/emoji/v2/72x72/1f1f9-1f1f7.png\" title=\"Flag of Turkey\"/>\n",
      "<img alt=\"\" data-aria-label-part=\"\" src=\"https://pbs.twimg.com/media/EO2eUHWUwAA3fJP.jpg\" style=\"height: 100%; left: -7px;\"/>\n",
      "<img alt=\"\" data-aria-label-part=\"\" src=\"https://pbs.twimg.com/media/EO2eUIVU4AEw854.jpg\" style=\"height: 100%; left: -2px;\"/>\n",
      "<img alt=\"\" class=\"avatar js-action-profile-avatar\" src=\"https://pbs.twimg.com/profile_images/2552209293/220px-Mars_atmosphere_bigger.jpg\"/>\n",
      "<img alt=\"\" data-aria-label-part=\"\" src=\"https://pbs.twimg.com/media/EO1iYINWkAIQL5L.jpg\" style=\"width: 100%; top: -0px;\"/>\n",
      "<img alt=\"\" class=\"avatar js-action-profile-avatar\" src=\"https://pbs.twimg.com/profile_images/2552209293/220px-Mars_atmosphere_bigger.jpg\"/>\n",
      "<img alt=\"\" data-aria-label-part=\"\" src=\"https://pbs.twimg.com/media/EOvh4EpX0AEXaa8.jpg\" style=\"width: 100%; top: -0px;\"/>\n",
      "<img alt=\"\" class=\"avatar js-action-profile-avatar\" src=\"https://pbs.twimg.com/profile_images/2552209293/220px-Mars_atmosphere_bigger.jpg\"/>\n",
      "<img alt=\"\" data-aria-label-part=\"\" src=\"https://pbs.twimg.com/media/EOqYQvZXkAALlYC.jpg\" style=\"width: 100%; top: -0px;\"/>\n",
      "<img alt=\"\" class=\"avatar js-action-profile-avatar\" src=\"https://pbs.twimg.com/profile_images/2552209293/220px-Mars_atmosphere_bigger.jpg\"/>\n",
      "<img alt=\"\" data-aria-label-part=\"\" src=\"https://pbs.twimg.com/media/EOkXvInXkAIzrfE.jpg\" style=\"width: 100%; top: -0px;\"/>\n",
      "<img alt=\"\" class=\"avatar js-action-profile-avatar\" src=\"https://pbs.twimg.com/profile_images/1212051677399986178/1uhxEAzi_bigger.jpg\"/>\n",
      "<img alt=\"\" class=\"avatar js-action-profile-avatar\" src=\"https://pbs.twimg.com/profile_images/2552209293/220px-Mars_atmosphere_bigger.jpg\"/>\n",
      "<img alt=\"\" data-aria-label-part=\"\" src=\"https://pbs.twimg.com/media/EOgFFLKX4AUbdvH.jpg\" style=\"width: 100%; top: -0px;\"/>\n",
      "<img alt=\"\" class=\"avatar js-action-profile-avatar\" src=\"https://pbs.twimg.com/profile_images/2552209293/220px-Mars_atmosphere_bigger.jpg\"/>\n",
      "<img alt=\"\" data-aria-label-part=\"\" src=\"https://pbs.twimg.com/media/EOcf8QGXUAAUFhk.jpg\" style=\"width: 100%; top: -0px;\"/>\n",
      "<img alt=\"\" class=\"avatar js-action-profile-avatar\" src=\"https://pbs.twimg.com/profile_images/2552209293/220px-Mars_atmosphere_bigger.jpg\"/>\n",
      "<img alt=\"\" data-aria-label-part=\"\" src=\"https://pbs.twimg.com/media/EOaEmCWXkAENkSw.jpg\" style=\"width: 100%; top: -0px;\"/>\n",
      "<img alt=\"\" class=\"avatar js-action-profile-avatar\" src=\"https://pbs.twimg.com/profile_images/2552209293/220px-Mars_atmosphere_bigger.jpg\"/>\n",
      "<img alt=\"\" data-aria-label-part=\"\" src=\"https://pbs.twimg.com/media/EOWo1avWsAE2B0Y.jpg\" style=\"width: 100%; top: -0px;\"/>\n",
      "<img alt=\"\" class=\"avatar js-action-profile-avatar\" src=\"https://pbs.twimg.com/profile_images/2552209293/220px-Mars_atmosphere_bigger.jpg\"/>\n",
      "<img alt=\"\" data-aria-label-part=\"\" src=\"https://pbs.twimg.com/media/EOSWLIHX0AYVpYj.jpg\" style=\"width: 100%; top: -0px;\"/>\n",
      "<img alt=\"\" class=\"avatar size32\"/>\n",
      "<img alt=\"\" class=\"avatar size32\"/>\n",
      "<img alt=\"\" class=\"avatar size32\"/>\n"
     ]
    }
   ],
   "source": [
    "#Scrape Twitter Mars Weather\n",
    "def scrape_mars_weather():\n",
    "\n",
    "    response = requests.get(mars_twitter_url)\n",
    "    soup = bs(response.content, 'html.parser')\n",
    "\n",
    "    mars_weather = soup.find('p', class_='TweetTextSize').text\n",
    "\n",
    "    images = soup.find_all('img', class_=\"css-9pa8cd\")\n",
    "    for i in images:\n",
    "        print(i)\n",
    "scrape_mars_weather()\n"
   ]
  },
  {
   "cell_type": "code",
   "execution_count": 7,
   "metadata": {},
   "outputs": [
    {
     "data": {
      "text/plain": [
       "<tbody><tr class=\"row-1 odd\"><td class=\"column-1\"><strong>Equatorial Diameter:</strong></td><td class=\"column-2\">6,792 km<br/></td></tr><tr class=\"row-2 even\"><td class=\"column-1\"><strong>Polar Diameter:</strong></td><td class=\"column-2\">6,752 km<br/></td></tr><tr class=\"row-3 odd\"><td class=\"column-1\"><strong>Mass:</strong></td><td class=\"column-2\">6.39 × 10^23 kg<br/> (0.11 Earths)</td></tr><tr class=\"row-4 even\"><td class=\"column-1\"><strong>Moons:</strong></td><td class=\"column-2\">2 (<a href=\"https://space-facts.com/moons/phobos/\">Phobos</a> &amp; <a href=\"https://space-facts.com/moons/deimos/\">Deimos</a>)</td></tr><tr class=\"row-5 odd\"><td class=\"column-1\"><strong>Orbit Distance:</strong></td><td class=\"column-2\">227,943,824 km<br/> (1.38 AU)</td></tr><tr class=\"row-6 even\"><td class=\"column-1\"><strong>Orbit Period:</strong></td><td class=\"column-2\">687 days (1.9 years)<br/></td></tr><tr class=\"row-7 odd\"><td class=\"column-1\"><strong>Surface Temperature: </strong></td><td class=\"column-2\">-87 to -5 °C</td></tr><tr class=\"row-8 even\"><td class=\"column-1\"><strong>First Record:</strong></td><td class=\"column-2\">2nd millennium BC</td></tr><tr class=\"row-9 odd\"><td class=\"column-1\"><strong>Recorded By:</strong></td><td class=\"column-2\">Egyptian astronomers</td></tr></tbody>"
      ]
     },
     "execution_count": 7,
     "metadata": {},
     "output_type": "execute_result"
    }
   ],
   "source": [
    "#Scrape Mars Facts table\n",
    "def scrape_mars_facts():\n",
    "    chrome_path = \"/usr/local/bin/chromedriver\"\n",
    "    browser = webdriver.Chrome(chrome_path)\n",
    "\n",
    "    browser.get(mars_facts_url)\n",
    "\n",
    "    time.sleep(1)\n",
    "    soup = bs(browser.page_source, 'html.parser')\n",
    "    mars_facts_table = soup.find('tbody')\n",
    "\n",
    "    browser.close()\n",
    "\n",
    "    return mars_facts_table\n",
    "\n",
    "scrape_mars_facts()"
   ]
  },
  {
   "cell_type": "code",
   "execution_count": 6,
   "metadata": {},
   "outputs": [
    {
     "name": "stdout",
     "output_type": "stream",
     "text": [
      "{'hemisphere_name0': 'Cerberus Hemisphere Enhanced', 'hemisphere_url': 'http://astropedia.astrogeology.usgs.gov/download/Mars/Viking/valles_marineris_enhanced.tif/full.jpg', 'hemisphere_name1': 'Schiaparelli Hemisphere Enhanced', 'hemisphere_name2': 'Syrtis Major Hemisphere Enhanced', 'hemisphere_name3': 'Valles Marineris Hemisphere Enhanced'}\n"
     ]
    }
   ],
   "source": [
    "#Scrape Mars Hemisphere Images\n",
    "def scrape_mars_hemisphere():\n",
    "    mars_hemispheres_entry = {}\n",
    "\n",
    "    chrome_path = \"/usr/local/bin/chromedriver\"\n",
    "    browser = webdriver.Chrome(chrome_path)\n",
    "\n",
    "    browser.get(mars_hemispheres_url)\n",
    "\n",
    "    soup = bs(browser.page_source, 'html.parser')\n",
    "    link_names = soup.find_all('h3')\n",
    "    for index, data in enumerate(link_names):\n",
    "        link = browser.find_element_by_link_text(str(data.text))\n",
    "        link.click()\n",
    "        time.sleep(1)\n",
    "\n",
    "        title = browser.find_element_by_class_name(\"title\")\n",
    "        image_title = title.text\n",
    "\n",
    "        image = browser.find_element_by_xpath(\"//a[@target='_blank']\")\n",
    "\n",
    "        mars_hemispheres_entry[f\"hemisphere_name_{index}\"] = image_title \n",
    "        mars_hemispheres_entry[\"hemisphere_url\"] = image.get_attribute('href')\n",
    "\n",
    "        browser.back()\n",
    "\n",
    "    time.sleep(1)\n",
    "\n",
    "#     mars_db_entry['mars_hemispheres_entry'] = mars_hemispheres_entry\n",
    "\n",
    "    browser.close()\n",
    "    \n",
    "    print(mars_hemispheres_entry)\n",
    "\n",
    "scrape_mars_hemisphere()"
   ]
  },
  {
   "cell_type": "code",
   "execution_count": null,
   "metadata": {},
   "outputs": [],
   "source": []
  }
 ],
 "metadata": {
  "kernelspec": {
   "display_name": "Python 3",
   "language": "python",
   "name": "python3"
  },
  "language_info": {
   "codemirror_mode": {
    "name": "ipython",
    "version": 3
   },
   "file_extension": ".py",
   "mimetype": "text/x-python",
   "name": "python",
   "nbconvert_exporter": "python",
   "pygments_lexer": "ipython3",
   "version": "3.7.4"
  }
 },
 "nbformat": 4,
 "nbformat_minor": 4
}
